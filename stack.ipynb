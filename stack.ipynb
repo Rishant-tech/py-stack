{
 "cells": [
  {
   "cell_type": "code",
   "execution_count": 12,
   "metadata": {},
   "outputs": [
    {
     "name": "stdout",
     "output_type": "stream",
     "text": [
      "[]\n",
      "for inserting elements in stack type : 'ins', for removing type : 'rmv', for exit type : 'ext'ext\n",
      "operation done!!\n"
     ]
    }
   ],
   "source": [
    "# stack implementation using list\n",
    "def ad():\n",
    "    stack.append(input(\"Hurray!! you can enter something : \"))\n",
    "def rmv():\n",
    "    print(\"The popped element is : \",stack.pop())\n",
    "stack=[]\n",
    "i=True\n",
    "while i:\n",
    "    print(stack)\n",
    "    j=input(\"for inserting elements in stack type : \\'ins\\', for removing type : \\'rmv\\', for exit type : \\'ext\\'\")\n",
    "    if j==\"ins\":\n",
    "        ad()\n",
    "    elif j==\"rmv\":\n",
    "        if len(stack)!=0:\n",
    "            rmv()\n",
    "        else:\n",
    "            print(\"Stack is empty!!\")\n",
    "            i=False\n",
    "    elif j==\"ext\":\n",
    "        i=False\n",
    "    else:\n",
    "        print(\"Try again!!\")\n",
    "        \n",
    "        \n",
    "\n",
    "print(\"operation done!!\")\n",
    "\n"
   ]
  },
  {
   "cell_type": "code",
   "execution_count": 14,
   "metadata": {},
   "outputs": [
    {
     "name": "stdout",
     "output_type": "stream",
     "text": [
      "deque([])\n",
      "for inserting elements in stack type : 'ins', for removing type : 'rmv', for exit type : 'ext'ins\n",
      "Hurray!! you can enter something : 4\n",
      "deque(['4'])\n",
      "for inserting elements in stack type : 'ins', for removing type : 'rmv', for exit type : 'ext'ins\n",
      "Hurray!! you can enter something : ins\n",
      "deque(['4', 'ins'])\n",
      "for inserting elements in stack type : 'ins', for removing type : 'rmv', for exit type : 'ext'ins\n",
      "Hurray!! you can enter something : 6\n",
      "deque(['4', 'ins', '6'])\n",
      "for inserting elements in stack type : 'ins', for removing type : 'rmv', for exit type : 'ext'ext\n",
      "operation done!! using the deque module\n"
     ]
    }
   ],
   "source": [
    "# stack implementation using deque collection module\n",
    "\n",
    "\n",
    "from collections import deque\n",
    "\n",
    "stack=deque()\n",
    "\n",
    "def addd():\n",
    "    stack.append(input(\"Hurray!! enter the elements to the stack : \"))\n",
    "def rmv():\n",
    "    print(\"The popped element of the statck is : \",stack.pop())\n",
    "\n",
    "i=True\n",
    "while i:\n",
    "    print(stack)\n",
    "    j=input(\"for inserting elements in stack type : \\'ins\\', for removing type : \\'rmv\\', for exit type : \\'ext\\'\")\n",
    "    if j==\"ins\":\n",
    "        ad()\n",
    "    elif j==\"rmv\":\n",
    "        if len(stack)!=0:\n",
    "            rmv()\n",
    "        else:\n",
    "            print(\"Stack is empty!!\")\n",
    "            i=False\n",
    "    elif j==\"ext\":\n",
    "        i=False\n",
    "    else:\n",
    "        print(\"Try again!!\")\n",
    "\n",
    "print(\"operation done!! using the deque module\")"
   ]
  },
  {
   "cell_type": "code",
   "execution_count": 15,
   "metadata": {},
   "outputs": [
    {
     "data": {
      "text/plain": [
       "deque(['4', 'ins', '6'])"
      ]
     },
     "execution_count": 15,
     "metadata": {},
     "output_type": "execute_result"
    }
   ],
   "source": [
    "stack\n"
   ]
  },
  {
   "cell_type": "code",
   "execution_count": null,
   "metadata": {},
   "outputs": [],
   "source": [
    "# stack implementation using lifo queue\n",
    "\n",
    "from queue import LifoQueue\n",
    "\n",
    "stack=LifoQueue()\n",
    "def ful():\n",
    "    print(stack.full())\n",
    "def emt():\n",
    "    print(stack.empty())\n",
    "def ad():\n",
    "    stack.put(input(\"Enter something : \"))\n",
    "def rmv():\n",
    "    print(stack.get())\n",
    "    \n",
    "i=True\n",
    "while i:\n",
    "    print(stack)\n",
    "    j=input('''Type for :\n",
    "        check full- \\'ful\\'\n",
    "        check empty-\\'emt\\'\n",
    "        inserting - \\'ins\\'\n",
    "        removing  - \\'rmv\\'\n",
    "        exit      - \\'ext\\'''')\n",
    "    \n",
    "    if j==\"ful\":\n",
    "        ful()\n",
    "    elif j==\"emt\":\n",
    "        emt()\n",
    "    elif j==\"ins\":\n",
    "        ad()\n",
    "    elif j==\"rmv\":\n",
    "        rmv()\n",
    "    elif j==\"ext\":\n",
    "        i=False\n",
    "    else:\n",
    "        print(\"Try again!!\")\n",
    "\n",
    "print(\"operation done!! using the deque module\")"
   ]
  }
 ],
 "metadata": {
  "kernelspec": {
   "display_name": "Python 3",
   "language": "python",
   "name": "python3"
  },
  "language_info": {
   "codemirror_mode": {
    "name": "ipython",
    "version": 3
   },
   "file_extension": ".py",
   "mimetype": "text/x-python",
   "name": "python",
   "nbconvert_exporter": "python",
   "pygments_lexer": "ipython3",
   "version": "3.7.6"
  }
 },
 "nbformat": 4,
 "nbformat_minor": 4
}
